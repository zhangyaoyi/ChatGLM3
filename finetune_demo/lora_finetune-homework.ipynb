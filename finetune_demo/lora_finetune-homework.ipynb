{
 "cells": [
  {
   "cell_type": "markdown",
   "source": [
    "# 单卡GPU 进行 ChatGLM3-6B模型 LORA 高效微调\n",
    "本 Cookbook 将带领开发者使用 `AdvertiseGen` 对 ChatGLM3-6B 数据集进行 lora微调，使其具备专业的广告生成能力。\n",
    "\n",
    "## 硬件需求\n",
    "显存：24GB及以上（推荐使用30系或A10等sm80架构以上的NVIDIA显卡进行尝试）\n",
    "内存：16GB\n",
    "RAM: 2.9 /16 GB\n",
    "GPU RAM: 15.5/16.0 GB"
   ],
   "metadata": {
    "collapsed": false,
    "id": "89b89f64d8f8053d"
   },
   "id": "89b89f64d8f8053d"
  },
  {
   "cell_type": "markdown",
   "source": [
    "## 0. 环境检查\n",
    "首先，先检查代码的运行地址，确保运行地址处于 `finetune_demo` 中。\n",
    "并且，确保已经安装了 `requirements.txt`中的依赖。\n",
    "\n",
    "> 本 demo 中，不需要使用 deepspeed, mpi4py 两个依赖，如果您安装这两个依赖遇到问题，可以不安装这两个依赖。"
   ],
   "metadata": {
    "collapsed": false,
    "id": "a7bd9a514ed09ea6"
   },
   "id": "a7bd9a514ed09ea6"
  },
  {
   "cell_type": "code",
   "source": [
    "!pwd"
   ],
   "metadata": {
    "collapsed": false
   },
   "id": "f7703109d1443346",
   "outputs": [],
   "execution_count": null
  },
  {
   "cell_type": "markdown",
   "source": [
    "## 1. 准备数据集\n",
    "我们使用 AdvertiseGen 数据集来进行微调。从 [Google Drive](https://drive.google.com/file/d/13_vf0xRTQsyneRKdD1bZIr93vBGOczrk/view?usp=sharing) 或者 [Tsinghua Cloud](https://cloud.tsinghua.edu.cn/f/b3f119a008264b1cabd1/?dl=1) 下载处理好的 AdvertiseGen 数据集，将解压后的 AdvertiseGen 目录放到本目录的 `/data/` 下, 例如。\n",
    "> /media/zr/Data/Code/ChatGLM3/finetune_demo/data/AdvertiseGen"
   ],
   "metadata": {
    "collapsed": false
   },
   "id": "2f50e92810011977"
  },
  {
   "cell_type": "code",
   "source": [
    "import json\n",
    "from typing import Union\n",
    "from pathlib import Path\n",
    "\n",
    "\n",
    "def _resolve_path(path: Union[str, Path]) -> Path:\n",
    "    return Path(path).expanduser().resolve()\n",
    "\n",
    "\n",
    "def _mkdir(dir_name: Union[str, Path]):\n",
    "    dir_name = _resolve_path(dir_name)\n",
    "    if not dir_name.is_dir():\n",
    "        dir_name.mkdir(parents=True, exist_ok=False)\n",
    "\n",
    "\n",
    "def convert_adgen(data_dir: Union[str, Path], save_dir: Union[str, Path]):\n",
    "    def _convert(in_file: Path, out_file: Path):\n",
    "        _mkdir(out_file.parent)\n",
    "        with open(in_file, encoding='utf-8') as fin:\n",
    "            with open(out_file, 'wt', encoding='utf-8') as fout:\n",
    "                for line in fin:\n",
    "                    dct = json.loads(line)\n",
    "                    sample = {'conversations': [{'role': 'user', 'content': dct['content']},\n",
    "                                                {'role': 'assistant', 'content': dct['summary']}]}\n",
    "                    fout.write(json.dumps(sample, ensure_ascii=False) + '\\n')\n",
    "\n",
    "    data_dir = _resolve_path(data_dir)\n",
    "    save_dir = _resolve_path(save_dir)\n",
    "\n",
    "    train_file = data_dir / 'train.json'\n",
    "    if train_file.is_file():\n",
    "        out_file = save_dir / train_file.relative_to(data_dir)\n",
    "        _convert(train_file, out_file)\n",
    "\n",
    "    dev_file = data_dir / 'dev.json'\n",
    "    if dev_file.is_file():\n",
    "        out_file = save_dir / dev_file.relative_to(data_dir)\n",
    "        _convert(dev_file, out_file)\n",
    "\n",
    "\n",
    "convert_adgen('data/AdvertiseGen', 'data/AdvertiseGen_fix')"
   ],
   "metadata": {
    "collapsed": true,
    "cellView": "form",
    "id": "initial_id",
    "ExecuteTime": {
     "end_time": "2024-07-19T16:12:00.329388Z",
     "start_time": "2024-07-19T16:11:59.822849Z"
    }
   },
   "id": "initial_id",
   "outputs": [],
   "execution_count": 1
  },
  {
   "cell_type": "markdown",
   "source": [
    "## 2. 使用命令行开始微调,我们使用 lora 进行微调\n",
    "接着，我们仅需要将配置好的参数以命令行的形式传参给程序，就可以使用命令行进行高效微调。"
   ],
   "metadata": {
    "collapsed": false,
    "id": "a1b7a99923349056"
   },
   "id": "a1b7a99923349056"
  },
  {
   "cell_type": "code",
   "source": "!CUDA_VISIBLE_DEVICES=0 NCCL_P2P_DISABLE=\"1\" NCCL_IB_DISABLE=\"1\" python finetune_hf.py  data/AdvertiseGen_fix  THUDM/chatglm3-6b  configs/lora.yaml",
   "metadata": {
    "colab": {
     "base_uri": "https://localhost:8080/"
    },
    "id": "17c87410a24d844f",
    "outputId": "e347fc7d-875e-40c9-c682-3e064100476b",
    "jupyter": {
     "is_executing": true
    },
    "ExecuteTime": {
     "start_time": "2024-07-19T16:12:14.338319Z"
    }
   },
   "id": "17c87410a24d844f",
   "outputs": [
    {
     "name": "stdout",
     "output_type": "stream",
     "text": [
      "/home/overman/miniconda3/envs/chatglm/lib/python3.10/site-packages/transformers/training_args.py:1494: FutureWarning: `evaluation_strategy` is deprecated and will be removed in version 4.46 of 🤗 Transformers. Use `eval_strategy` instead\r\n",
      "  warnings.warn(\r\n",
      "Setting eos_token is not supported, use the default one.\r\n",
      "Setting pad_token is not supported, use the default one.\r\n",
      "Setting unk_token is not supported, use the default one.\r\n",
      "Loading checkpoint shards: 100%|██████████████████| 7/7 [00:00<00:00,  7.04it/s]\r\n",
      "trainable params: 1,949,696 || all params: 6,245,533,696 || trainable%: 0.0312\r\n",
      "--> Model\r\n",
      "\r\n",
      "--> model has 1.949696M params\r\n",
      "\r\n",
      "Setting num_proc from 16 back to 1 for the train split to disable multiprocessing as it only contains one shard.\r\n",
      "Generating train split: 114599 examples [00:00, 1371551.72 examples/s]\r\n",
      "Setting num_proc from 16 back to 1 for the validation split to disable multiprocessing as it only contains one shard.\r\n",
      "Generating validation split: 1070 examples [00:00, 624100.30 examples/s]\r\n",
      "Setting num_proc from 16 back to 1 for the test split to disable multiprocessing as it only contains one shard.\r\n",
      "Generating test split: 1070 examples [00:00, 773243.50 examples/s]\r\n",
      "Map (num_proc=16): 100%|█████| 114599/114599 [00:01<00:00, 102529.57 examples/s]\r\n",
      "train_dataset: Dataset({\r\n",
      "    features: ['input_ids', 'labels'],\r\n",
      "    num_rows: 114599\r\n",
      "})\r\n",
      "Map (num_proc=16): 100%|███████████| 1070/1070 [00:00<00:00, 3056.20 examples/s]\r\n",
      "val_dataset: Dataset({\r\n",
      "    features: ['input_ids', 'output_ids'],\r\n",
      "    num_rows: 1070\r\n",
      "})\r\n",
      "Map (num_proc=16): 100%|███████████| 1070/1070 [00:00<00:00, 2982.18 examples/s]\r\n",
      "test_dataset: Dataset({\r\n",
      "    features: ['input_ids', 'output_ids'],\r\n",
      "    num_rows: 1070\r\n",
      "})\r\n",
      "--> Sanity check\r\n",
      "           '[gMASK]': 64790 -> -100\r\n",
      "               'sop': 64792 -> -100\r\n",
      "          '<|user|>': 64795 -> -100\r\n",
      "                  '': 30910 -> -100\r\n",
      "                '\\n': 13 -> -100\r\n",
      "                  '': 30910 -> -100\r\n",
      "                '类型': 33467 -> -100\r\n",
      "                 '#': 31010 -> -100\r\n",
      "                 '裤': 56532 -> -100\r\n",
      "                 '*': 30998 -> -100\r\n",
      "                 '版': 55090 -> -100\r\n",
      "                 '型': 54888 -> -100\r\n",
      "                 '#': 31010 -> -100\r\n",
      "                '宽松': 40833 -> -100\r\n",
      "                 '*': 30998 -> -100\r\n",
      "                '风格': 32799 -> -100\r\n",
      "                 '#': 31010 -> -100\r\n",
      "                '性感': 40589 -> -100\r\n",
      "                 '*': 30998 -> -100\r\n",
      "                '图案': 37505 -> -100\r\n",
      "                 '#': 31010 -> -100\r\n",
      "                '线条': 37216 -> -100\r\n",
      "                 '*': 30998 -> -100\r\n",
      "                 '裤': 56532 -> -100\r\n",
      "                 '型': 54888 -> -100\r\n",
      "                 '#': 31010 -> -100\r\n",
      "                 '阔': 56529 -> -100\r\n",
      "                 '腿': 56158 -> -100\r\n",
      "                 '裤': 56532 -> -100\r\n",
      "     '<|assistant|>': 64796 -> -100\r\n",
      "                  '': 30910 -> 30910\r\n",
      "                '\\n': 13 -> 13\r\n",
      "                  '': 30910 -> 30910\r\n",
      "                '宽松': 40833 -> 40833\r\n",
      "                 '的': 54530 -> 54530\r\n",
      "                 '阔': 56529 -> 56529\r\n",
      "                 '腿': 56158 -> 56158\r\n",
      "                 '裤': 56532 -> 56532\r\n",
      "                 '这': 54551 -> 54551\r\n",
      "                '两年': 33808 -> 33808\r\n",
      "                '真的': 32041 -> 32041\r\n",
      "                 '吸': 55360 -> 55360\r\n",
      "                 '粉': 55486 -> 55486\r\n",
      "                '不少': 32138 -> 32138\r\n",
      "                 '，': 31123 -> 31123\r\n",
      "                '明星': 32943 -> 32943\r\n",
      "                '时尚': 33481 -> 33481\r\n",
      "                 '达': 54880 -> 54880\r\n",
      "                '人的': 31664 -> 31664\r\n",
      "                '心头': 46565 -> 46565\r\n",
      "                 '爱': 54799 -> 54799\r\n",
      "                 '。': 31155 -> 31155\r\n",
      "                '毕竟': 33051 -> 33051\r\n",
      "                 '好': 54591 -> 54591\r\n",
      "                 '穿': 55432 -> 55432\r\n",
      "                '时尚': 33481 -> 33481\r\n",
      "                 '，': 31123 -> 31123\r\n",
      "                 '谁': 55622 -> 55622\r\n",
      "                '都能': 32904 -> 32904\r\n",
      "                 '穿': 55432 -> 55432\r\n",
      "                 '出': 54557 -> 54557\r\n",
      "                 '腿': 56158 -> 56158\r\n",
      "                 '长': 54625 -> 54625\r\n",
      "                 '2': 30943 -> 30943\r\n",
      "                 '米': 55055 -> 55055\r\n",
      "               '的效果': 35590 -> 35590\r\n",
      "                '宽松': 40833 -> 40833\r\n",
      "                 '的': 54530 -> 54530\r\n",
      "                 '裤': 56532 -> 56532\r\n",
      "                 '腿': 56158 -> 56158\r\n",
      "                 '，': 31123 -> 31123\r\n",
      "               '当然是': 48466 -> 48466\r\n",
      "                 '遮': 57148 -> 57148\r\n",
      "                 '肉': 55343 -> 55343\r\n",
      "                 '小': 54603 -> 54603\r\n",
      "                '能手': 49355 -> 49355\r\n",
      "                 '啊': 55674 -> 55674\r\n",
      "                 '。': 31155 -> 31155\r\n",
      "                '上身': 51605 -> 51605\r\n",
      "                 '随': 55119 -> 55119\r\n",
      "                 '性': 54642 -> 54642\r\n",
      "                '自然': 31799 -> 31799\r\n",
      "                 '不': 54535 -> 54535\r\n",
      "                 '拘': 57036 -> 57036\r\n",
      "                 '束': 55625 -> 55625\r\n",
      "                 '，': 31123 -> 31123\r\n",
      "                '面料': 46839 -> 46839\r\n",
      "                 '亲': 55113 -> 55113\r\n",
      "                 '肤': 56089 -> 56089\r\n",
      "                '舒适': 33894 -> 33894\r\n",
      "                 '贴': 55778 -> 55778\r\n",
      "                '身体': 31902 -> 31902\r\n",
      "                 '验': 55017 -> 55017\r\n",
      "                 '感': 54706 -> 54706\r\n",
      "                 '棒': 56382 -> 56382\r\n",
      "                 '棒': 56382 -> 56382\r\n",
      "                 '哒': 59230 -> 59230\r\n",
      "                 '。': 31155 -> 31155\r\n",
      "                 '系': 54712 -> 54712\r\n",
      "                 '带': 54882 -> 54882\r\n",
      "                '部分': 31726 -> 31726\r\n",
      "                '增加': 31917 -> 31917\r\n",
      "                '设计': 31735 -> 31735\r\n",
      "                '看点': 45032 -> 45032\r\n",
      "                 '，': 31123 -> 31123\r\n",
      "                 '还': 54656 -> 54656\r\n",
      "                 '让': 54772 -> 54772\r\n",
      "                '单品': 46539 -> 46539\r\n",
      "               '的设计': 34481 -> 34481\r\n",
      "                 '感': 54706 -> 54706\r\n",
      "                '更强': 43084 -> 43084\r\n",
      "                 '。': 31155 -> 31155\r\n",
      "                '腿部': 46799 -> 46799\r\n",
      "                '线条': 37216 -> 37216\r\n",
      "                 '若': 55351 -> 55351\r\n",
      "                 '隐': 55733 -> 55733\r\n",
      "                 '若': 55351 -> 55351\r\n",
      "                 '现': 54600 -> 54600\r\n",
      "                 '的': 54530 -> 54530\r\n",
      "                 '，': 31123 -> 31123\r\n",
      "                '性感': 40589 -> 40589\r\n",
      "                 '撩': 58521 -> 58521\r\n",
      "                 '人': 54533 -> 54533\r\n",
      "                 '。': 31155 -> 31155\r\n",
      "                '颜色': 33692 -> 33692\r\n",
      "                 '敲': 57004 -> 57004\r\n",
      "                '温柔': 34678 -> 34678\r\n",
      "                 '的': 54530 -> 54530\r\n",
      "                 '，': 31123 -> 31123\r\n",
      "                 '与': 54619 -> 54619\r\n",
      "                '裤子': 44722 -> 44722\r\n",
      "                '本身': 32754 -> 32754\r\n",
      "                 '所': 54626 -> 54626\r\n",
      "                '呈现': 33169 -> 33169\r\n",
      "               '的风格': 48084 -> 48084\r\n",
      "                '有点': 33149 -> 33149\r\n",
      "                 '反': 54955 -> 54955\r\n",
      "                 '差': 55342 -> 55342\r\n",
      "                 '萌': 56842 -> 56842\r\n",
      "                 '。': 31155 -> 31155\r\n",
      "                  '': 2 -> 2\r\n",
      "max_steps is given, it will override any value given in num_train_epochs\r\n",
      "***** Running training *****\r\n",
      "  Num examples = 114,599\r\n",
      "  Num Epochs = 1\r\n",
      "  Instantaneous batch size per device = 4\r\n",
      "  Total train batch size (w. parallel, distributed & accumulation) = 4\r\n",
      "  Gradient Accumulation steps = 1\r\n",
      "  Total optimization steps = 3,000\r\n",
      "  Number of trainable parameters = 1,949,696\r\n",
      "{'loss': 4.8348, 'grad_norm': 2.078549861907959, 'learning_rate': 4.9833333333333336e-05, 'epoch': 0.0}\r\n",
      "{'loss': 4.6211, 'grad_norm': 2.990713596343994, 'learning_rate': 4.966666666666667e-05, 'epoch': 0.0}\r\n",
      "{'loss': 4.5273, 'grad_norm': 2.9355385303497314, 'learning_rate': 4.9500000000000004e-05, 'epoch': 0.0}\r\n",
      "{'loss': 4.1625, 'grad_norm': 3.3740179538726807, 'learning_rate': 4.933333333333334e-05, 'epoch': 0.0}\r\n",
      "{'loss': 4.1436, 'grad_norm': 2.735036611557007, 'learning_rate': 4.9166666666666665e-05, 'epoch': 0.0}\r\n",
      "{'loss': 3.8859, 'grad_norm': 2.9371254444122314, 'learning_rate': 4.9e-05, 'epoch': 0.0}\r\n",
      "{'loss': 3.8586, 'grad_norm': 2.89851450920105, 'learning_rate': 4.883333333333334e-05, 'epoch': 0.0}\r\n",
      "{'loss': 3.7576, 'grad_norm': 2.924633741378784, 'learning_rate': 4.866666666666667e-05, 'epoch': 0.0}\r\n",
      "{'loss': 3.6451, 'grad_norm': 3.194131374359131, 'learning_rate': 4.85e-05, 'epoch': 0.0}\r\n",
      "{'loss': 3.7277, 'grad_norm': 3.361570358276367, 'learning_rate': 4.8333333333333334e-05, 'epoch': 0.0}\r\n",
      "{'loss': 3.6779, 'grad_norm': 3.5839803218841553, 'learning_rate': 4.8166666666666674e-05, 'epoch': 0.0}\r\n",
      "{'loss': 3.8512, 'grad_norm': 3.875769853591919, 'learning_rate': 4.8e-05, 'epoch': 0.0}\r\n",
      "  4%|█▋                                      | 126/3000 [01:12<26:21,  1.82it/s]"
     ]
    }
   ],
   "execution_count": null
  },
  {
   "cell_type": "code",
   "source": [
    "!CUDA_VISIBLE_DEVICES=0 NCCL_P2P_DISABLE=\"1\" NCCL_IB_DISABLE=\"1\" python inference_hf.py output/checkpoint-4000/ --prompt \"类型#裙*版型#显瘦*材质#网纱*风格#性感*裙型#百褶*裙下摆#压褶*裙长#连衣裙*裙衣门襟#拉链*裙衣门襟#套头*裙款式#拼接*裙款式#拉链*裙款式#木耳边*裙款式#抽褶*裙款式#不规则\""
   ],
   "metadata": {
    "id": "5060015c24e97ae",
    "outputId": "d3f03d0d-46bf-4c74-9b00-dc0160da0e15",
    "colab": {
     "base_uri": "https://localhost:8080/"
    }
   },
   "id": "5060015c24e97ae",
   "outputs": [],
   "execution_count": null
  },
  {
   "cell_type": "markdown",
   "source": [
    "## 4. 总结\n",
    "到此位置，我们就完成了使用单张 GPU Lora 来微调 ChatGLM3-6B 模型，使其能生产出更好的广告。\n",
    "在本章节中，你将会学会：\n",
    "+ 如何使用模型进行 Lora 微调\n",
    "+ 微调数据集的准备和对齐\n",
    "+ 使用微调的模型进行推理"
   ],
   "metadata": {
    "collapsed": false,
    "id": "18cd83087f096094"
   },
   "id": "18cd83087f096094"
  }
 ],
 "metadata": {
  "kernelspec": {
   "name": "python3",
   "language": "python",
   "display_name": "Python 3 (ipykernel)"
  },
  "language_info": {
   "codemirror_mode": {
    "name": "ipython",
    "version": 2
   },
   "file_extension": ".py",
   "mimetype": "text/x-python",
   "name": "python",
   "nbconvert_exporter": "python",
   "pygments_lexer": "ipython2",
   "version": "2.7.6"
  },
  "colab": {
   "provenance": [],
   "machine_shape": "hm",
   "gpuType": "V100"
  },
  "accelerator": "GPU"
 },
 "nbformat": 4,
 "nbformat_minor": 5
}
