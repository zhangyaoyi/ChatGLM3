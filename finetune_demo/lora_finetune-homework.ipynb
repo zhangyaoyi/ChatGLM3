{
 "cells": [
  {
   "cell_type": "markdown",
   "source": [
    "# 单卡GPU 进行 ChatGLM3-6B模型 LORA 高效微调\n",
    "本 Cookbook 将带领开发者使用 `AdvertiseGen` 对 ChatGLM3-6B 数据集进行 lora微调，使其具备专业的广告生成能力。\n",
    "\n",
    "## 硬件需求\n",
    "显存：24GB及以上（推荐使用30系或A10等sm80架构以上的NVIDIA显卡进行尝试）\n",
    "内存：16GB\n",
    "RAM: 2.9 /16 GB\n",
    "GPU RAM: 15.5/16.0 GB"
   ],
   "metadata": {
    "collapsed": false,
    "id": "89b89f64d8f8053d"
   },
   "id": "89b89f64d8f8053d"
  },
  {
   "cell_type": "markdown",
   "source": [
    "## 0. 环境检查\n",
    "首先，先检查代码的运行地址，确保运行地址处于 `finetune_demo` 中。\n",
    "并且，确保已经安装了 `requirements.txt`中的依赖。\n",
    "\n",
    "> 本 demo 中，不需要使用 deepspeed, mpi4py 两个依赖，如果您安装这两个依赖遇到问题，可以不安装这两个依赖。"
   ],
   "metadata": {
    "collapsed": false,
    "id": "a7bd9a514ed09ea6"
   },
   "id": "a7bd9a514ed09ea6"
  },
  {
   "cell_type": "code",
   "source": [
    "!pwd"
   ],
   "metadata": {
    "collapsed": false,
    "ExecuteTime": {
     "end_time": "2024-07-19T15:54:38.942855Z",
     "start_time": "2024-07-19T15:54:38.819317Z"
    }
   },
   "id": "f7703109d1443346",
   "outputs": [
    {
     "name": "stdout",
     "output_type": "stream",
     "text": [
      "/home/overman/Workspace/ChatGLM3/finetune_demo\r\n"
     ]
    }
   ],
   "execution_count": 1
  },
  {
   "cell_type": "markdown",
   "source": [
    "## 1. 准备数据集\n",
    "我们使用 AdvertiseGen 数据集来进行微调。从 [Google Drive](https://drive.google.com/file/d/13_vf0xRTQsyneRKdD1bZIr93vBGOczrk/view?usp=sharing) 或者 [Tsinghua Cloud](https://cloud.tsinghua.edu.cn/f/b3f119a008264b1cabd1/?dl=1) 下载处理好的 AdvertiseGen 数据集，将解压后的 AdvertiseGen 目录放到本目录的 `/data/` 下, 例如。\n",
    "> /media/zr/Data/Code/ChatGLM3/finetune_demo/data/AdvertiseGen"
   ],
   "metadata": {
    "collapsed": false
   },
   "id": "2f50e92810011977"
  },
  {
   "cell_type": "code",
   "source": [
    "import json\n",
    "from typing import Union\n",
    "from pathlib import Path\n",
    "\n",
    "\n",
    "def _resolve_path(path: Union[str, Path]) -> Path:\n",
    "    return Path(path).expanduser().resolve()\n",
    "\n",
    "\n",
    "def _mkdir(dir_name: Union[str, Path]):\n",
    "    dir_name = _resolve_path(dir_name)\n",
    "    if not dir_name.is_dir():\n",
    "        dir_name.mkdir(parents=True, exist_ok=False)\n",
    "\n",
    "\n",
    "def convert_adgen(data_dir: Union[str, Path], save_dir: Union[str, Path]):\n",
    "    def _convert(in_file: Path, out_file: Path):\n",
    "        _mkdir(out_file.parent)\n",
    "        with open(in_file, encoding='utf-8') as fin:\n",
    "            with open(out_file, 'wt', encoding='utf-8') as fout:\n",
    "                for line in fin:\n",
    "                    dct = json.loads(line)\n",
    "                    sample = {'conversations': [{'role': 'user', 'content': dct['content']},\n",
    "                                                {'role': 'assistant', 'content': dct['summary']}]}\n",
    "                    fout.write(json.dumps(sample, ensure_ascii=False) + '\\n')\n",
    "\n",
    "    data_dir = _resolve_path(data_dir)\n",
    "    save_dir = _resolve_path(save_dir)\n",
    "\n",
    "    train_file = data_dir / 'train.json'\n",
    "    if train_file.is_file():\n",
    "        out_file = save_dir / train_file.relative_to(data_dir)\n",
    "        _convert(train_file, out_file)\n",
    "\n",
    "    dev_file = data_dir / 'dev.json'\n",
    "    if dev_file.is_file():\n",
    "        out_file = save_dir / dev_file.relative_to(data_dir)\n",
    "        _convert(dev_file, out_file)\n",
    "\n",
    "\n",
    "convert_adgen('data/AdvertiseGen', 'data/AdvertiseGen_fix')"
   ],
   "metadata": {
    "collapsed": true,
    "cellView": "form",
    "id": "initial_id",
    "ExecuteTime": {
     "end_time": "2024-07-19T16:04:21.363458Z",
     "start_time": "2024-07-19T16:04:21.350939Z"
    }
   },
   "id": "initial_id",
   "outputs": [],
   "execution_count": 8
  },
  {
   "cell_type": "markdown",
   "source": [
    "## 2. 使用命令行开始微调,我们使用 lora 进行微调\n",
    "接着，我们仅需要将配置好的参数以命令行的形式传参给程序，就可以使用命令行进行高效微调。"
   ],
   "metadata": {
    "collapsed": false,
    "id": "a1b7a99923349056"
   },
   "id": "a1b7a99923349056"
  },
  {
   "cell_type": "code",
   "source": "!CUDA_VISIBLE_DEVICES=0 NCCL_P2P_DISABLE=\"1\" NCCL_IB_DISABLE=\"1\" python finetune_hf.py  data/AdvertiseGen_fix  THUDM/chatglm3-6b  configs/lora.yaml",
   "metadata": {
    "colab": {
     "base_uri": "https://localhost:8080/"
    },
    "id": "17c87410a24d844f",
    "outputId": "e347fc7d-875e-40c9-c682-3e064100476b",
    "ExecuteTime": {
     "end_time": "2024-07-19T16:04:04.339451Z",
     "start_time": "2024-07-19T16:03:54.422896Z"
    }
   },
   "id": "17c87410a24d844f",
   "outputs": [
    {
     "name": "stdout",
     "output_type": "stream",
     "text": [
      "/home/overman/miniconda3/envs/chatglm/lib/python3.10/site-packages/transformers/training_args.py:1494: FutureWarning: `evaluation_strategy` is deprecated and will be removed in version 4.46 of 🤗 Transformers. Use `eval_strategy` instead\r\n",
      "  warnings.warn(\r\n",
      "Setting eos_token is not supported, use the default one.\r\n",
      "Setting pad_token is not supported, use the default one.\r\n",
      "Setting unk_token is not supported, use the default one.\r\n",
      "Loading checkpoint shards: 100%|██████████████████| 7/7 [00:03<00:00,  1.78it/s]\r\n",
      "trainable params: 1,949,696 || all params: 6,245,533,696 || trainable%: 0.0312\r\n",
      "--> Model\r\n",
      "\r\n",
      "--> model has 1.949696M params\r\n",
      "\r\n",
      "\u001B[31m╭─\u001B[0m\u001B[31m────────────────────\u001B[0m\u001B[31m \u001B[0m\u001B[1;31mTraceback \u001B[0m\u001B[1;2;31m(most recent call last)\u001B[0m\u001B[31m \u001B[0m\u001B[31m─────────────────────\u001B[0m\u001B[31m─╮\u001B[0m\r\n",
      "\u001B[31m│\u001B[0m \u001B[2;33m/home/overman/Workspace/ChatGLM3/finetune_demo/\u001B[0m\u001B[1;33mfinetune_hf.py\u001B[0m:\u001B[94m460\u001B[0m in \u001B[92mmain\u001B[0m    \u001B[31m│\u001B[0m\r\n",
      "\u001B[31m│\u001B[0m                                                                              \u001B[31m│\u001B[0m\r\n",
      "\u001B[31m│\u001B[0m   \u001B[2m457 \u001B[0m):                                                                     \u001B[31m│\u001B[0m\r\n",
      "\u001B[31m│\u001B[0m   \u001B[2m458 \u001B[0m\u001B[2m│   \u001B[0mft_config = FinetuningConfig.from_file(config_file)                \u001B[31m│\u001B[0m\r\n",
      "\u001B[31m│\u001B[0m   \u001B[2m459 \u001B[0m\u001B[2m│   \u001B[0mtokenizer, model = load_tokenizer_and_model(model_dir, peft_config \u001B[31m│\u001B[0m\r\n",
      "\u001B[31m│\u001B[0m \u001B[31m❱ \u001B[0m460 \u001B[2m│   \u001B[0mdata_manager = DataManager(data_dir, ft_config.data_config)        \u001B[31m│\u001B[0m\r\n",
      "\u001B[31m│\u001B[0m   \u001B[2m461 \u001B[0m\u001B[2m│   \u001B[0m                                                                   \u001B[31m│\u001B[0m\r\n",
      "\u001B[31m│\u001B[0m   \u001B[2m462 \u001B[0m\u001B[2m│   \u001B[0mtrain_dataset = data_manager.get_dataset(                          \u001B[31m│\u001B[0m\r\n",
      "\u001B[31m│\u001B[0m   \u001B[2m463 \u001B[0m\u001B[2m│   │   \u001B[0mSplit.TRAIN,                                                   \u001B[31m│\u001B[0m\r\n",
      "\u001B[31m│\u001B[0m                                                                              \u001B[31m│\u001B[0m\r\n",
      "\u001B[31m│\u001B[0m \u001B[2;33m/home/overman/Workspace/ChatGLM3/finetune_demo/\u001B[0m\u001B[1;33mfinetune_hf.py\u001B[0m:\u001B[94m236\u001B[0m in         \u001B[31m│\u001B[0m\r\n",
      "\u001B[31m│\u001B[0m \u001B[92m__init__\u001B[0m                                                                     \u001B[31m│\u001B[0m\r\n",
      "\u001B[31m│\u001B[0m                                                                              \u001B[31m│\u001B[0m\r\n",
      "\u001B[31m│\u001B[0m   \u001B[2m233 \u001B[0m\u001B[2m│   \u001B[0m\u001B[94mdef\u001B[0m \u001B[92m__init__\u001B[0m(\u001B[96mself\u001B[0m, data_dir: \u001B[96mstr\u001B[0m, data_config: DataConfig):        \u001B[31m│\u001B[0m\r\n",
      "\u001B[31m│\u001B[0m   \u001B[2m234 \u001B[0m\u001B[2m│   │   \u001B[0m\u001B[96mself\u001B[0m._num_proc = data_config.num_proc                          \u001B[31m│\u001B[0m\r\n",
      "\u001B[31m│\u001B[0m   \u001B[2m235 \u001B[0m\u001B[2m│   │   \u001B[0m                                                               \u001B[31m│\u001B[0m\r\n",
      "\u001B[31m│\u001B[0m \u001B[31m❱ \u001B[0m236 \u001B[2m│   │   \u001B[0m\u001B[96mself\u001B[0m._dataset_dct = _load_datasets(                            \u001B[31m│\u001B[0m\r\n",
      "\u001B[31m│\u001B[0m   \u001B[2m237 \u001B[0m\u001B[2m│   │   │   \u001B[0m_resolve_path(data_dir),                                   \u001B[31m│\u001B[0m\r\n",
      "\u001B[31m│\u001B[0m   \u001B[2m238 \u001B[0m\u001B[2m│   │   │   \u001B[0mdata_config.data_format,                                   \u001B[31m│\u001B[0m\r\n",
      "\u001B[31m│\u001B[0m   \u001B[2m239 \u001B[0m\u001B[2m│   │   │   \u001B[0mdata_config.data_files,                                    \u001B[31m│\u001B[0m\r\n",
      "\u001B[31m│\u001B[0m                                                                              \u001B[31m│\u001B[0m\r\n",
      "\u001B[31m│\u001B[0m \u001B[2;33m/home/overman/Workspace/ChatGLM3/finetune_demo/\u001B[0m\u001B[1;33mfinetune_hf.py\u001B[0m:\u001B[94m219\u001B[0m in         \u001B[31m│\u001B[0m\r\n",
      "\u001B[31m│\u001B[0m \u001B[92m_load_datasets\u001B[0m                                                               \u001B[31m│\u001B[0m\r\n",
      "\u001B[31m│\u001B[0m                                                                              \u001B[31m│\u001B[0m\r\n",
      "\u001B[31m│\u001B[0m   \u001B[2m216 \u001B[0m\u001B[2m│   │   \u001B[0mnum_proc: Optional[\u001B[96mint\u001B[0m],                                       \u001B[31m│\u001B[0m\r\n",
      "\u001B[31m│\u001B[0m   \u001B[2m217 \u001B[0m) -> DatasetDict:                                                      \u001B[31m│\u001B[0m\r\n",
      "\u001B[31m│\u001B[0m   \u001B[2m218 \u001B[0m\u001B[2m│   \u001B[0m\u001B[94mif\u001B[0m data_format \u001B[95min\u001B[0m (\u001B[33m'\u001B[0m\u001B[33m.csv\u001B[0m\u001B[33m'\u001B[0m, \u001B[33m'\u001B[0m\u001B[33m.json\u001B[0m\u001B[33m'\u001B[0m, \u001B[33m'\u001B[0m\u001B[33m.jsonl\u001B[0m\u001B[33m'\u001B[0m):                     \u001B[31m│\u001B[0m\r\n",
      "\u001B[31m│\u001B[0m \u001B[31m❱ \u001B[0m219 \u001B[2m│   │   \u001B[0mdataset_dct = load_dataset(                                    \u001B[31m│\u001B[0m\r\n",
      "\u001B[31m│\u001B[0m   \u001B[2m220 \u001B[0m\u001B[2m│   │   │   \u001B[0mdata_format[\u001B[94m1\u001B[0m:],                                           \u001B[31m│\u001B[0m\r\n",
      "\u001B[31m│\u001B[0m   \u001B[2m221 \u001B[0m\u001B[2m│   │   │   \u001B[0mdata_dir=data_dir,                                         \u001B[31m│\u001B[0m\r\n",
      "\u001B[31m│\u001B[0m   \u001B[2m222 \u001B[0m\u001B[2m│   │   │   \u001B[0mdata_files=data_files,                                     \u001B[31m│\u001B[0m\r\n",
      "\u001B[31m│\u001B[0m                                                                              \u001B[31m│\u001B[0m\r\n",
      "\u001B[31m│\u001B[0m \u001B[2;33m/home/overman/miniconda3/envs/chatglm/lib/python3.10/site-packages/datasets/\u001B[0m \u001B[31m│\u001B[0m\r\n",
      "\u001B[31m│\u001B[0m \u001B[1;33mload.py\u001B[0m:\u001B[94m2594\u001B[0m in \u001B[92mload_dataset\u001B[0m                                                 \u001B[31m│\u001B[0m\r\n",
      "\u001B[31m│\u001B[0m                                                                              \u001B[31m│\u001B[0m\r\n",
      "\u001B[31m│\u001B[0m   \u001B[2m2591 \u001B[0m\u001B[2m│   \u001B[0m)                                                                 \u001B[31m│\u001B[0m\r\n",
      "\u001B[31m│\u001B[0m   \u001B[2m2592 \u001B[0m\u001B[2m│   \u001B[0m                                                                  \u001B[31m│\u001B[0m\r\n",
      "\u001B[31m│\u001B[0m   \u001B[2m2593 \u001B[0m\u001B[2m│   \u001B[0m\u001B[2m# Create a dataset builder\u001B[0m                                        \u001B[31m│\u001B[0m\r\n",
      "\u001B[31m│\u001B[0m \u001B[31m❱ \u001B[0m2594 \u001B[2m│   \u001B[0mbuilder_instance = load_dataset_builder(                          \u001B[31m│\u001B[0m\r\n",
      "\u001B[31m│\u001B[0m   \u001B[2m2595 \u001B[0m\u001B[2m│   │   \u001B[0mpath=path,                                                    \u001B[31m│\u001B[0m\r\n",
      "\u001B[31m│\u001B[0m   \u001B[2m2596 \u001B[0m\u001B[2m│   │   \u001B[0mname=name,                                                    \u001B[31m│\u001B[0m\r\n",
      "\u001B[31m│\u001B[0m   \u001B[2m2597 \u001B[0m\u001B[2m│   │   \u001B[0mdata_dir=data_dir,                                            \u001B[31m│\u001B[0m\r\n",
      "\u001B[31m│\u001B[0m                                                                              \u001B[31m│\u001B[0m\r\n",
      "\u001B[31m│\u001B[0m \u001B[2;33m/home/overman/miniconda3/envs/chatglm/lib/python3.10/site-packages/datasets/\u001B[0m \u001B[31m│\u001B[0m\r\n",
      "\u001B[31m│\u001B[0m \u001B[1;33mload.py\u001B[0m:\u001B[94m2266\u001B[0m in \u001B[92mload_dataset_builder\u001B[0m                                         \u001B[31m│\u001B[0m\r\n",
      "\u001B[31m│\u001B[0m                                                                              \u001B[31m│\u001B[0m\r\n",
      "\u001B[31m│\u001B[0m   \u001B[2m2263 \u001B[0m\u001B[2m│   \u001B[0m\u001B[94mif\u001B[0m storage_options \u001B[95mis\u001B[0m \u001B[95mnot\u001B[0m \u001B[94mNone\u001B[0m:                                   \u001B[31m│\u001B[0m\r\n",
      "\u001B[31m│\u001B[0m   \u001B[2m2264 \u001B[0m\u001B[2m│   │   \u001B[0mdownload_config = download_config.copy() \u001B[94mif\u001B[0m download_config \u001B[94me\u001B[0m \u001B[31m│\u001B[0m\r\n",
      "\u001B[31m│\u001B[0m   \u001B[2m2265 \u001B[0m\u001B[2m│   │   \u001B[0mdownload_config.storage_options.update(storage_options)       \u001B[31m│\u001B[0m\r\n",
      "\u001B[31m│\u001B[0m \u001B[31m❱ \u001B[0m2266 \u001B[2m│   \u001B[0mdataset_module = dataset_module_factory(                          \u001B[31m│\u001B[0m\r\n",
      "\u001B[31m│\u001B[0m   \u001B[2m2267 \u001B[0m\u001B[2m│   │   \u001B[0mpath,                                                         \u001B[31m│\u001B[0m\r\n",
      "\u001B[31m│\u001B[0m   \u001B[2m2268 \u001B[0m\u001B[2m│   │   \u001B[0mrevision=revision,                                            \u001B[31m│\u001B[0m\r\n",
      "\u001B[31m│\u001B[0m   \u001B[2m2269 \u001B[0m\u001B[2m│   │   \u001B[0mdownload_config=download_config,                              \u001B[31m│\u001B[0m\r\n",
      "\u001B[31m│\u001B[0m                                                                              \u001B[31m│\u001B[0m\r\n",
      "\u001B[31m│\u001B[0m \u001B[2;33m/home/overman/miniconda3/envs/chatglm/lib/python3.10/site-packages/datasets/\u001B[0m \u001B[31m│\u001B[0m\r\n",
      "\u001B[31m│\u001B[0m \u001B[1;33mload.py\u001B[0m:\u001B[94m1805\u001B[0m in \u001B[92mdataset_module_factory\u001B[0m                                       \u001B[31m│\u001B[0m\r\n",
      "\u001B[31m│\u001B[0m                                                                              \u001B[31m│\u001B[0m\r\n",
      "\u001B[31m│\u001B[0m   \u001B[2m1802 \u001B[0m\u001B[2m│   │   │   \u001B[0mdata_files=data_files,                                    \u001B[31m│\u001B[0m\r\n",
      "\u001B[31m│\u001B[0m   \u001B[2m1803 \u001B[0m\u001B[2m│   │   │   \u001B[0mdownload_config=download_config,                          \u001B[31m│\u001B[0m\r\n",
      "\u001B[31m│\u001B[0m   \u001B[2m1804 \u001B[0m\u001B[2m│   │   │   \u001B[0mdownload_mode=download_mode,                              \u001B[31m│\u001B[0m\r\n",
      "\u001B[31m│\u001B[0m \u001B[31m❱ \u001B[0m1805 \u001B[2m│   │   \u001B[0m).get_module()                                                \u001B[31m│\u001B[0m\r\n",
      "\u001B[31m│\u001B[0m   \u001B[2m1806 \u001B[0m\u001B[2m│   \u001B[0m\u001B[2m# Try locally\u001B[0m                                                     \u001B[31m│\u001B[0m\r\n",
      "\u001B[31m│\u001B[0m   \u001B[2m1807 \u001B[0m\u001B[2m│   \u001B[0m\u001B[94melif\u001B[0m path.endswith(filename):                                     \u001B[31m│\u001B[0m\r\n",
      "\u001B[31m│\u001B[0m   \u001B[2m1808 \u001B[0m\u001B[2m│   │   \u001B[0m\u001B[94mif\u001B[0m os.path.isfile(path):                                      \u001B[31m│\u001B[0m\r\n",
      "\u001B[31m│\u001B[0m                                                                              \u001B[31m│\u001B[0m\r\n",
      "\u001B[31m│\u001B[0m \u001B[2;33m/home/overman/miniconda3/envs/chatglm/lib/python3.10/site-packages/datasets/\u001B[0m \u001B[31m│\u001B[0m\r\n",
      "\u001B[31m│\u001B[0m \u001B[1;33mload.py\u001B[0m:\u001B[94m1142\u001B[0m in \u001B[92mget_module\u001B[0m                                                   \u001B[31m│\u001B[0m\r\n",
      "\u001B[31m│\u001B[0m                                                                              \u001B[31m│\u001B[0m\r\n",
      "\u001B[31m│\u001B[0m   \u001B[2m1139 \u001B[0m\u001B[2m│   │   │   \u001B[0m\u001B[94mif\u001B[0m \u001B[96mself\u001B[0m.data_files \u001B[95mis\u001B[0m \u001B[95mnot\u001B[0m \u001B[94mNone\u001B[0m                            \u001B[31m│\u001B[0m\r\n",
      "\u001B[31m│\u001B[0m   \u001B[2m1140 \u001B[0m\u001B[2m│   │   │   \u001B[0m\u001B[94melse\u001B[0m get_data_patterns(base_path, download_config=\u001B[96mself\u001B[0m.do \u001B[31m│\u001B[0m\r\n",
      "\u001B[31m│\u001B[0m   \u001B[2m1141 \u001B[0m\u001B[2m│   │   \u001B[0m)                                                             \u001B[31m│\u001B[0m\r\n",
      "\u001B[31m│\u001B[0m \u001B[31m❱ \u001B[0m1142 \u001B[2m│   │   \u001B[0mdata_files = DataFilesDict.from_patterns(                     \u001B[31m│\u001B[0m\r\n",
      "\u001B[31m│\u001B[0m   \u001B[2m1143 \u001B[0m\u001B[2m│   │   │   \u001B[0mpatterns,                                                 \u001B[31m│\u001B[0m\r\n",
      "\u001B[31m│\u001B[0m   \u001B[2m1144 \u001B[0m\u001B[2m│   │   │   \u001B[0mdownload_config=\u001B[96mself\u001B[0m.download_config,                     \u001B[31m│\u001B[0m\r\n",
      "\u001B[31m│\u001B[0m   \u001B[2m1145 \u001B[0m\u001B[2m│   │   │   \u001B[0mbase_path=base_path,                                      \u001B[31m│\u001B[0m\r\n",
      "\u001B[31m│\u001B[0m                                                                              \u001B[31m│\u001B[0m\r\n",
      "\u001B[31m│\u001B[0m \u001B[2;33m/home/overman/miniconda3/envs/chatglm/lib/python3.10/site-packages/datasets/\u001B[0m \u001B[31m│\u001B[0m\r\n",
      "\u001B[31m│\u001B[0m \u001B[1;33mdata_files.py\u001B[0m:\u001B[94m721\u001B[0m in \u001B[92mfrom_patterns\u001B[0m                                           \u001B[31m│\u001B[0m\r\n",
      "\u001B[31m│\u001B[0m                                                                              \u001B[31m│\u001B[0m\r\n",
      "\u001B[31m│\u001B[0m   \u001B[2m718 \u001B[0m\u001B[2m│   │   │   \u001B[0mout[key] = (                                               \u001B[31m│\u001B[0m\r\n",
      "\u001B[31m│\u001B[0m   \u001B[2m719 \u001B[0m\u001B[2m│   │   │   │   \u001B[0mpatterns_for_key                                       \u001B[31m│\u001B[0m\r\n",
      "\u001B[31m│\u001B[0m   \u001B[2m720 \u001B[0m\u001B[2m│   │   │   │   \u001B[0m\u001B[94mif\u001B[0m \u001B[96misinstance\u001B[0m(patterns_for_key, DataFilesList)         \u001B[31m│\u001B[0m\r\n",
      "\u001B[31m│\u001B[0m \u001B[31m❱ \u001B[0m721 \u001B[2m│   │   │   │   \u001B[0m\u001B[94melse\u001B[0m DataFilesList.from_patterns(                      \u001B[31m│\u001B[0m\r\n",
      "\u001B[31m│\u001B[0m   \u001B[2m722 \u001B[0m\u001B[2m│   │   │   │   │   \u001B[0mpatterns_for_key,                                  \u001B[31m│\u001B[0m\r\n",
      "\u001B[31m│\u001B[0m   \u001B[2m723 \u001B[0m\u001B[2m│   │   │   │   │   \u001B[0mbase_path=base_path,                               \u001B[31m│\u001B[0m\r\n",
      "\u001B[31m│\u001B[0m   \u001B[2m724 \u001B[0m\u001B[2m│   │   │   │   │   \u001B[0mallowed_extensions=allowed_extensions,             \u001B[31m│\u001B[0m\r\n",
      "\u001B[31m│\u001B[0m                                                                              \u001B[31m│\u001B[0m\r\n",
      "\u001B[31m│\u001B[0m \u001B[2;33m/home/overman/miniconda3/envs/chatglm/lib/python3.10/site-packages/datasets/\u001B[0m \u001B[31m│\u001B[0m\r\n",
      "\u001B[31m│\u001B[0m \u001B[1;33mdata_files.py\u001B[0m:\u001B[94m624\u001B[0m in \u001B[92mfrom_patterns\u001B[0m                                           \u001B[31m│\u001B[0m\r\n",
      "\u001B[31m│\u001B[0m                                                                              \u001B[31m│\u001B[0m\r\n",
      "\u001B[31m│\u001B[0m   \u001B[2m621 \u001B[0m\u001B[2m│   │   \u001B[0m\u001B[94mfor\u001B[0m pattern \u001B[95min\u001B[0m patterns:                                       \u001B[31m│\u001B[0m\r\n",
      "\u001B[31m│\u001B[0m   \u001B[2m622 \u001B[0m\u001B[2m│   │   │   \u001B[0m\u001B[94mtry\u001B[0m:                                                       \u001B[31m│\u001B[0m\r\n",
      "\u001B[31m│\u001B[0m   \u001B[2m623 \u001B[0m\u001B[2m│   │   │   │   \u001B[0mdata_files.extend(                                     \u001B[31m│\u001B[0m\r\n",
      "\u001B[31m│\u001B[0m \u001B[31m❱ \u001B[0m624 \u001B[2m│   │   │   │   │   \u001B[0mresolve_pattern(                                   \u001B[31m│\u001B[0m\r\n",
      "\u001B[31m│\u001B[0m   \u001B[2m625 \u001B[0m\u001B[2m│   │   │   │   │   │   \u001B[0mpattern,                                       \u001B[31m│\u001B[0m\r\n",
      "\u001B[31m│\u001B[0m   \u001B[2m626 \u001B[0m\u001B[2m│   │   │   │   │   │   \u001B[0mbase_path=base_path,                           \u001B[31m│\u001B[0m\r\n",
      "\u001B[31m│\u001B[0m   \u001B[2m627 \u001B[0m\u001B[2m│   │   │   │   │   │   \u001B[0mallowed_extensions=allowed_extensions,         \u001B[31m│\u001B[0m\r\n",
      "\u001B[31m│\u001B[0m                                                                              \u001B[31m│\u001B[0m\r\n",
      "\u001B[31m│\u001B[0m \u001B[2;33m/home/overman/miniconda3/envs/chatglm/lib/python3.10/site-packages/datasets/\u001B[0m \u001B[31m│\u001B[0m\r\n",
      "\u001B[31m│\u001B[0m \u001B[1;33mdata_files.py\u001B[0m:\u001B[94m411\u001B[0m in \u001B[92mresolve_pattern\u001B[0m                                         \u001B[31m│\u001B[0m\r\n",
      "\u001B[31m│\u001B[0m                                                                              \u001B[31m│\u001B[0m\r\n",
      "\u001B[31m│\u001B[0m   \u001B[2m408 \u001B[0m\u001B[2m│   │   \u001B[0merror_msg = \u001B[33mf\u001B[0m\u001B[33m\"\u001B[0m\u001B[33mUnable to find \u001B[0m\u001B[33m'\u001B[0m\u001B[33m{\u001B[0mpattern\u001B[33m}\u001B[0m\u001B[33m'\u001B[0m\u001B[33m\"\u001B[0m                      \u001B[31m│\u001B[0m\r\n",
      "\u001B[31m│\u001B[0m   \u001B[2m409 \u001B[0m\u001B[2m│   │   \u001B[0m\u001B[94mif\u001B[0m allowed_extensions \u001B[95mis\u001B[0m \u001B[95mnot\u001B[0m \u001B[94mNone\u001B[0m:                             \u001B[31m│\u001B[0m\r\n",
      "\u001B[31m│\u001B[0m   \u001B[2m410 \u001B[0m\u001B[2m│   │   │   \u001B[0merror_msg += \u001B[33mf\u001B[0m\u001B[33m\"\u001B[0m\u001B[33m with any supported extension \u001B[0m\u001B[33m{\u001B[0m\u001B[96mlist\u001B[0m(allowed \u001B[31m│\u001B[0m\r\n",
      "\u001B[31m│\u001B[0m \u001B[31m❱ \u001B[0m411 \u001B[2m│   │   \u001B[0m\u001B[94mraise\u001B[0m \u001B[96mFileNotFoundError\u001B[0m(error_msg)                             \u001B[31m│\u001B[0m\r\n",
      "\u001B[31m│\u001B[0m   \u001B[2m412 \u001B[0m\u001B[2m│   \u001B[0m\u001B[94mreturn\u001B[0m out                                                         \u001B[31m│\u001B[0m\r\n",
      "\u001B[31m│\u001B[0m   \u001B[2m413 \u001B[0m                                                                       \u001B[31m│\u001B[0m\r\n",
      "\u001B[31m│\u001B[0m   \u001B[2m414 \u001B[0m                                                                       \u001B[31m│\u001B[0m\r\n",
      "\u001B[31m╰──────────────────────────────────────────────────────────────────────────────╯\u001B[0m\r\n",
      "\u001B[1;91mFileNotFoundError: \u001B[0mUnable to find \r\n",
      "\u001B[32m'/home/overman/Workspace/ChatGLM3/finetune_demo/data/AdvertiseGen_fix/train.json\u001B[0m\r\n",
      "\u001B[32m'\u001B[0m\r\n"
     ]
    }
   ],
   "execution_count": 7
  },
  {
   "cell_type": "markdown",
   "source": [
    "## 3. 使用微调的数据集进行推理\n",
    "在完成微调任务之后，我们可以查看到 `output` 文件夹下多了很多个`checkpoint-*`的文件夹，这些文件夹代表了训练的轮数。\n",
    "我们选择最后一轮的微调权重，并使用inference进行导入。"
   ],
   "metadata": {
    "collapsed": false,
    "id": "d9418f6c5c264601"
   },
   "id": "d9418f6c5c264601"
  },
  {
   "cell_type": "code",
   "source": [
    "!CUDA_VISIBLE_DEVICES=0 NCCL_P2P_DISABLE=\"1\" NCCL_IB_DISABLE=\"1\" python inference_hf.py output/checkpoint-4000/ --prompt \"类型#裙*版型#显瘦*材质#网纱*风格#性感*裙型#百褶*裙下摆#压褶*裙长#连衣裙*裙衣门襟#拉链*裙衣门襟#套头*裙款式#拼接*裙款式#拉链*裙款式#木耳边*裙款式#抽褶*裙款式#不规则\""
   ],
   "metadata": {
    "id": "5060015c24e97ae",
    "outputId": "d3f03d0d-46bf-4c74-9b00-dc0160da0e15",
    "colab": {
     "base_uri": "https://localhost:8080/"
    }
   },
   "id": "5060015c24e97ae",
   "outputs": [],
   "execution_count": null
  },
  {
   "cell_type": "markdown",
   "source": [
    "## 4. 总结\n",
    "到此位置，我们就完成了使用单张 GPU Lora 来微调 ChatGLM3-6B 模型，使其能生产出更好的广告。\n",
    "在本章节中，你将会学会：\n",
    "+ 如何使用模型进行 Lora 微调\n",
    "+ 微调数据集的准备和对齐\n",
    "+ 使用微调的模型进行推理"
   ],
   "metadata": {
    "collapsed": false,
    "id": "18cd83087f096094"
   },
   "id": "18cd83087f096094"
  }
 ],
 "metadata": {
  "kernelspec": {
   "name": "python3",
   "language": "python",
   "display_name": "Python 3 (ipykernel)"
  },
  "language_info": {
   "codemirror_mode": {
    "name": "ipython",
    "version": 2
   },
   "file_extension": ".py",
   "mimetype": "text/x-python",
   "name": "python",
   "nbconvert_exporter": "python",
   "pygments_lexer": "ipython2",
   "version": "2.7.6"
  },
  "colab": {
   "provenance": [],
   "machine_shape": "hm",
   "gpuType": "V100"
  },
  "accelerator": "GPU"
 },
 "nbformat": 4,
 "nbformat_minor": 5
}
